{
  "cells": [
    {
      "cell_type": "markdown",
      "metadata": {},
      "source": [
        "# EV Station Placement Optimization Integration\n",
        "\n",
        "This notebook demonstrates how to integrate linear programming optimization with the existing machine learning predictions for optimal EV charging station placement.\n",
        "\n",
        "## Overview\n",
        "1. Load existing ML predictions\n",
        "2. Apply linear programming optimization\n",
        "3. Compare different optimization strategies\n",
        "4. Visualize results\n"
      ]
    },
    {
      "cell_type": "code",
      "execution_count": null,
      "metadata": {},
      "outputs": [],
      "source": [
        "import pandas as pd\n",
        "import numpy as np\n",
        "import geopandas as gpd\n",
        "import matplotlib.pyplot as plt\n",
        "import folium\n",
        "from shapely.geometry import Point\n",
        "import warnings\n",
        "warnings.filterwarnings('ignore')\n",
        "\n",
        "# Import our optimization module\n",
        "import sys\n",
        "sys.path.append('..')\n",
        "from optimization_module import EVStationOptimizer, create_demand_scores_from_ml_predictions, run_optimization_analysis\n"
      ]
    },
    {
      "cell_type": "markdown",
      "metadata": {},
      "source": [
        "## 1. Load Data and ML Predictions\n"
      ]
    },
    {
      "cell_type": "code",
      "execution_count": null,
      "metadata": {},
      "outputs": [],
      "source": [
        "# Load the processed data\n",
        "data = pd.read_csv('../data/processed/all_city_data_with_pop.csv')\n",
        "print(f\"Data shape: {data.shape}\")\n",
        "print(f\"Columns: {list(data.columns)}\")\n",
        "data.head()\n"
      ]
    }
  ],
  "metadata": {
    "language_info": {
      "name": "python"
    }
  },
  "nbformat": 4,
  "nbformat_minor": 2
}
